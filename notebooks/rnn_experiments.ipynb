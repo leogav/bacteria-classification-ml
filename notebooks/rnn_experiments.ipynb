{
 "cells": [
  {
   "cell_type": "markdown",
   "id": "920a8b6a",
   "metadata": {},
   "source": [
    "# RNN Experiments - Classificação de Bactérias"
   ]
  },
  {
   "cell_type": "code",
   "execution_count": null,
   "id": "c86faf38",
   "metadata": {},
   "outputs": [],
   "source": [
    "\n",
    "import pandas as pd\n",
    "from src.preprocessing import drop_missing, encode_labels\n",
    "from src.train_eval import train_evaluate_lstm_rnn\n",
    "\n",
    "# ===============================\n",
    "# 1. Carregar os dados\n",
    "# ===============================\n",
    "df = pd.read_excel(\"data/nomeados-sem6bi.xlsx\")\n",
    "\n",
    "# Remover linhas com valores nulos\n",
    "df = drop_missing(df)\n",
    "\n",
    "# Separar features (X) e rótulos (y)\n",
    "X = df.iloc[:, 0:13].values\n",
    "y = df.iloc[:, 13].values\n",
    "\n",
    "# Transformar labels em valores numéricos\n",
    "y, encoder = encode_labels(y)\n",
    "\n",
    "# ===============================\n",
    "# 2. Treinar e Avaliar o Modelo RNN\n",
    "# ===============================\n",
    "print(\"Treinando RNN para classificação de bactérias...\\n\")\n",
    "\n",
    "train_evaluate_lstm_rnn(\n",
    "    X, \n",
    "    y, \n",
    "    model_type=\"rnn\",\n",
    "    num_folds=5,\n",
    "    num_interpolations=3,\n",
    "    epochs=150,\n",
    "    batch_size=64\n",
    ")\n"
   ]
  }
 ],
 "metadata": {},
 "nbformat": 4,
 "nbformat_minor": 5
}
