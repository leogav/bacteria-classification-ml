{
 "cells": [
  {
   "cell_type": "code",
   "execution_count": null,
   "metadata": {},
   "outputs": [],
   "source": [
    "print('Notebook válido!')"
   ]
  }
 ],
 "metadata": {
  "kernelspec": {
   "display_name": "Python 3",
   "language": "python",
   "name": "python3"
  },
  "language_info": {
   "name": "python",
   "version": "3.10"
  }
 },
 "nbformat": 4,
 "nbformat_minor": 5
}

import pandas as pd
from src.preprocessing import drop_missing, encode_labels
from src.train_eval import train_evaluate_lstm

# Carregar dados
df = pd.read_excel("/content/drive/My Drive/nomeados-sem6bi.xlsx")
df = drop_missing(df)

X = df.iloc[:, 0:13].values
y = df.iloc[:, 13].values

y, encoder = encode_labels(y)

# Treinar e avaliar
train_evaluate_lstm(X, y, num_folds=5, epochs=150, batch_size=64)
