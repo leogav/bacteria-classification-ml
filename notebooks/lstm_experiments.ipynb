import pandas as pd
from src.preprocessing import drop_missing, encode_labels
from src.train_eval import train_evaluate_lstm

# Carregar dados
df = pd.read_excel("/content/drive/My Drive/nomeados-sem6bi.xlsx")
df = drop_missing(df)

X = df.iloc[:, 0:13].values
y = df.iloc[:, 13].values

y, encoder = encode_labels(y)

# Treinar e avaliar
train_evaluate_lstm(X, y, num_folds=5, epochs=150, batch_size=64)
