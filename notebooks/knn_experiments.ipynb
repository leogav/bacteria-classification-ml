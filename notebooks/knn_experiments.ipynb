{
 "cells": [
  {
   "cell_type": "markdown",
   "id": "05e444a8",
   "metadata": {},
   "source": [
    "# KNN Experiments - Classificação de Bactérias"
   ]
  },
  {
   "cell_type": "code",
   "execution_count": null,
   "id": "2c7456ec",
   "metadata": {},
   "outputs": [],
   "source": [
    "\n",
    "import pandas as pd\n",
    "from src.preprocessing import drop_missing, encode_labels\n",
    "from src.train_eval import train_evaluate_classic\n",
    "from src.models import create_knn_model\n",
    "\n",
    "# ===============================\n",
    "# 1. Carregar os dados\n",
    "# ===============================\n",
    "df = pd.read_excel(\"data/nomeados-sem6bi.xlsx\")\n",
    "\n",
    "# Remover linhas com valores nulos\n",
    "df = drop_missing(df)\n",
    "\n",
    "# Separar features (X) e rótulos (y)\n",
    "X = df.iloc[:, 0:13].values\n",
    "y = df.iloc[:, 13].values\n",
    "\n",
    "# Transformar labels em valores numéricos\n",
    "y, encoder = encode_labels(y)\n",
    "\n",
    "# ===============================\n",
    "# 2. Treinar e Avaliar o Modelo KNN\n",
    "# ===============================\n",
    "print(\"Treinando KNN para classificação de bactérias...\\n\")\n",
    "\n",
    "model = create_knn_model(n_neighbors=5)\n",
    "\n",
    "train_evaluate_classic(\n",
    "    X, \n",
    "    y, \n",
    "    model=model,\n",
    "    num_folds=5,\n",
    "    num_interpolations=3\n",
    ")\n"
   ]
  }
 ],
 "metadata": {},
 "nbformat": 4,
 "nbformat_minor": 5
}
